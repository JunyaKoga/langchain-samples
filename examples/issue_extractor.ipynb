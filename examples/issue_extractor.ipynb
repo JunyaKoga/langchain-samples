{
 "cells": [
  {
   "cell_type": "code",
   "execution_count": 3,
   "id": "e37405fe-0809-4ad3-8293-ee55e994c8de",
   "metadata": {},
   "outputs": [],
   "source": [
    "import sys\n",
    "import os\n",
    "\n",
    "project_root = os.path.abspath(os.path.join(os.getcwd(), '..'))\n",
    "\n",
    "if project_root not in sys.path:\n",
    "    sys.path.append(project_root)"
   ]
  },
  {
   "cell_type": "code",
   "execution_count": 1,
   "id": "0f252965-1815-4977-aa69-4c79cc991c77",
   "metadata": {},
   "outputs": [
    {
     "data": {
      "text/plain": [
       "True"
      ]
     },
     "execution_count": 1,
     "metadata": {},
     "output_type": "execute_result"
    }
   ],
   "source": [
    "from dotenv import load_dotenv\n",
    "\n",
    "load_dotenv()"
   ]
  },
  {
   "cell_type": "code",
   "execution_count": 5,
   "id": "ad1eabdf-11c8-4fa4-bb20-d2fa39b92e63",
   "metadata": {},
   "outputs": [
    {
     "data": {
      "text/plain": [
       "['注文番号12345の商品の発送状況はどうなっていますか？',\n",
       " '発送通知がまだ届いていないので、注文番号12345の現在のステータスを教えてください',\n",
       " '注文番号12345の商品はいつ頃発送される予定ですか？',\n",
       " '商品に不具合があった場合の対応方法は何ですか？',\n",
       " '配送中に破損が発生した場合の対応方法は何ですか？']"
      ]
     },
     "execution_count": 5,
     "metadata": {},
     "output_type": "execute_result"
    }
   ],
   "source": [
    "from langchain_openai import ChatOpenAI\n",
    "from llm_module.issue_extractor import structured_issue_extractor\n",
    "\n",
    "# LLMの定義\n",
    "llm = ChatOpenAI(model=\"gpt-3.5-turbo-0125\")\n",
    "\n",
    "# 実行\n",
    "issue_extractor = structured_issue_extractor(llm)\n",
    "question = \"こんにちは、先日注文した商品（注文番号：12345）の発送状況についてお伺いしたいのですが、まだ発送通知が届いていないので現在のステータスを教えてください。また、発送がまだであればいつ頃発送される予定かも知りたいです。さらに、もし商品に不具合があった場合や配送中に破損が発生した場合の対応方法についても教えてもらえますか？よろしくお願いします。\"\n",
    "generated_issue = issue_extractor.invoke({\"input\": question})\n",
    "\n",
    "# 出力例:\n",
    "generated_issue.questions"
   ]
  },
  {
   "cell_type": "code",
   "execution_count": null,
   "id": "12edb611-27f8-48a6-a010-ef2428f921f9",
   "metadata": {},
   "outputs": [],
   "source": []
  }
 ],
 "metadata": {
  "kernelspec": {
   "display_name": "Python 3 (ipykernel)",
   "language": "python",
   "name": "python3"
  },
  "language_info": {
   "codemirror_mode": {
    "name": "ipython",
    "version": 3
   },
   "file_extension": ".py",
   "mimetype": "text/x-python",
   "name": "python",
   "nbconvert_exporter": "python",
   "pygments_lexer": "ipython3",
   "version": "3.11.9"
  }
 },
 "nbformat": 4,
 "nbformat_minor": 5
}
